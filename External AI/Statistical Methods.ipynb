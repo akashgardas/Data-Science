{
 "cells": [
  {
   "cell_type": "code",
   "execution_count": 5,
   "id": "d1517554-73cc-4b84-8de1-87368167151d",
   "metadata": {},
   "outputs": [],
   "source": [
    "import numpy as np\n",
    "import pandas as pd\n",
    "import statsmodels.api as sm # For statistical detials (like p-value)\n",
    "from sklearn.datasets import load_iris\n",
    "from sklearn.model_selection import train_test_split, cross_val_score\n",
    "from sklearn.preprocessing import StandardScaler\n",
    "from sklearn.neighbors import KNeighborsClassifier"
   ]
  },
  {
   "cell_type": "code",
   "execution_count": 6,
   "id": "2a6c67a4-2a4c-4598-b48a-4ec067e4711e",
   "metadata": {},
   "outputs": [],
   "source": [
    "X, y = load_iris(return_X_y=True)"
   ]
  },
  {
   "cell_type": "code",
   "execution_count": 7,
   "id": "9b95f300-5c38-4651-abbe-b88227c7eedb",
   "metadata": {},
   "outputs": [],
   "source": [
    "scaler = StandardScaler()\n",
    "X_scaled = scaler.fit_transform(X)"
   ]
  },
  {
   "cell_type": "code",
   "execution_count": 10,
   "id": "174eddf4-0211-4da4-a9a1-8430828cda93",
   "metadata": {},
   "outputs": [
    {
     "name": "stdout",
     "output_type": "stream",
     "text": [
      "Original Mean (first feature): 5.843333333333334\n",
      "Original Std (first feature):  0.8253012917851409\n",
      "Scaled Mean (first feature):   -1.4684549872375404e-15\n",
      "Scaled Std (first feature):    1.0\n"
     ]
    }
   ],
   "source": [
    "print(f\"Original Mean (first feature): {X[:, 0].mean()}\")\n",
    "print(f\"Original Std (first feature):  {X[:, 0].std()}\")\n",
    "print(f\"Scaled Mean (first feature):   {X_scaled[:, 0].mean()}\")\n",
    "print(f\"Scaled Std (first feature):    {X_scaled[:, 0].std()}\")"
   ]
  },
  {
   "cell_type": "code",
   "execution_count": 11,
   "id": "2cc711c5-549e-41d7-8c6d-b5edb6de0e89",
   "metadata": {},
   "outputs": [],
   "source": [
    "model = KNeighborsClassifier(n_neighbors=5)"
   ]
  },
  {
   "cell_type": "code",
   "execution_count": 12,
   "id": "c7efb465-a0a3-4078-a455-7bc25d31f21d",
   "metadata": {},
   "outputs": [],
   "source": [
    "scores = cross_val_score(model, X_scaled, y, cv=5) # cv=5 means 5-Fold"
   ]
  },
  {
   "cell_type": "code",
   "execution_count": 13,
   "id": "4bda6931-477a-45c8-a1ae-56cf72bc9df2",
   "metadata": {},
   "outputs": [
    {
     "name": "stdout",
     "output_type": "stream",
     "text": [
      "Cross-Validation Scores (5 Folds): [0.96666667 0.96666667 0.93333333 0.93333333 1.        ]\n",
      "Average CV Score: 0.960 +/- 0.025\n"
     ]
    }
   ],
   "source": [
    "print(f\"Cross-Validation Scores (5 Folds): {scores}\")\n",
    "print(f\"Average CV Score: {scores.mean():.3f} +/- {scores.std():.3f}\")"
   ]
  },
  {
   "cell_type": "code",
   "execution_count": null,
   "id": "cc6f6258-aad4-4884-97b8-e3a2a9378b14",
   "metadata": {},
   "outputs": [],
   "source": []
  }
 ],
 "metadata": {
  "kernelspec": {
   "display_name": "Python 3 (ipykernel)",
   "language": "python",
   "name": "python3"
  },
  "language_info": {
   "codemirror_mode": {
    "name": "ipython",
    "version": 3
   },
   "file_extension": ".py",
   "mimetype": "text/x-python",
   "name": "python",
   "nbconvert_exporter": "python",
   "pygments_lexer": "ipython3",
   "version": "3.11.7"
  }
 },
 "nbformat": 4,
 "nbformat_minor": 5
}
